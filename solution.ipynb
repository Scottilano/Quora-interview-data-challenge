{
 "cells": [
  {
   "cell_type": "code",
   "execution_count": 1,
   "id": "9914f37b",
   "metadata": {},
   "outputs": [],
   "source": [
    "import pandas as pd \n",
    "import numpy as np "
   ]
  },
  {
   "cell_type": "code",
   "execution_count": null,
   "id": "8a63584c",
   "metadata": {},
   "outputs": [],
   "source": [
    "\"\"\"\n",
    "t1_user_active_min.csv\n",
    "This table contains active minutes data logged after experiment started.\n",
    "Each row represents the total number of minutes spent on site for each user on a date.\n",
    "If a user never visited the site for a given date, there wouldn't be data for that uid on that date.\n",
    "- uid: user ID\n",
    "- dt: date when corresponding active minutes are registered\n",
    "- active_mins: number of minutes spent on site for the date\n",
    "\n",
    "t2_user_variant.csv\n",
    "This table contains users’ treatment assignment.\n",
    "Each row represents the assignment information for a unique user.\n",
    "- uid: user ID\n",
    "- variant_number: the experiment variant user is in. 0 for control, 1 for treatment\n",
    "- dt: date when user entered the experiment, should be ‘2019-02-06’ for all users\n",
    "- signup_date: the date string that user signed up on\n",
    "\n",
    "t3_user_active_min_pre.csv\n",
    "This table contains active minutes data before the experiment started.\n",
    "It has a similar format as t1, except the dt range can extend before the experiment start date.\n",
    "- uid: user ID\n",
    "- dt: date when corresponding active minutes are registered\n",
    "- active_mins: number of minutes spent on site for the date\n",
    "\n",
    "t4_user_attributes.csv\n",
    "This table contains data about some user attributes.\n",
    "Each row represents attributes of a unique user.\n",
    "- uid: user ID\n",
    "- user_type: segment that a user belongs to, measured by activity level of the user. Can be ‘new_user’, ‘non_reader’, ‘reader’ or ‘contributor’\n",
    "- gender: user gender. Can be ‘male’, ‘female’ or ‘unknown’\n",
    "\"\"\"\n"
   ]
  },
  {
   "cell_type": "code",
   "execution_count": 2,
   "id": "fbb792f3",
   "metadata": {},
   "outputs": [],
   "source": [
    "df1 = pd.read_csv('t1_user_active_min.csv')"
   ]
  },
  {
   "cell_type": "code",
   "execution_count": 5,
   "id": "5563a659",
   "metadata": {},
   "outputs": [
    {
     "data": {
      "text/html": [
       "<div>\n",
       "<style scoped>\n",
       "    .dataframe tbody tr th:only-of-type {\n",
       "        vertical-align: middle;\n",
       "    }\n",
       "\n",
       "    .dataframe tbody tr th {\n",
       "        vertical-align: top;\n",
       "    }\n",
       "\n",
       "    .dataframe thead th {\n",
       "        text-align: right;\n",
       "    }\n",
       "</style>\n",
       "<table border=\"1\" class=\"dataframe\">\n",
       "  <thead>\n",
       "    <tr style=\"text-align: right;\">\n",
       "      <th></th>\n",
       "      <th>uid</th>\n",
       "      <th>dt</th>\n",
       "      <th>active_mins</th>\n",
       "    </tr>\n",
       "  </thead>\n",
       "  <tbody>\n",
       "    <tr>\n",
       "      <th>0</th>\n",
       "      <td>0</td>\n",
       "      <td>2019-02-22</td>\n",
       "      <td>5.0</td>\n",
       "    </tr>\n",
       "    <tr>\n",
       "      <th>1</th>\n",
       "      <td>0</td>\n",
       "      <td>2019-03-11</td>\n",
       "      <td>5.0</td>\n",
       "    </tr>\n",
       "  </tbody>\n",
       "</table>\n",
       "</div>"
      ],
      "text/plain": [
       "   uid          dt  active_mins\n",
       "0    0  2019-02-22          5.0\n",
       "1    0  2019-03-11          5.0"
      ]
     },
     "execution_count": 5,
     "metadata": {},
     "output_type": "execute_result"
    }
   ],
   "source": [
    "df1.head(2)   "
   ]
  },
  {
   "cell_type": "code",
   "execution_count": 3,
   "id": "396549dd",
   "metadata": {},
   "outputs": [],
   "source": [
    "df2 = pd.read_csv('t2_user_variant.csv')"
   ]
  },
  {
   "cell_type": "code",
   "execution_count": 6,
   "id": "a6d30905",
   "metadata": {},
   "outputs": [
    {
     "data": {
      "text/html": [
       "<div>\n",
       "<style scoped>\n",
       "    .dataframe tbody tr th:only-of-type {\n",
       "        vertical-align: middle;\n",
       "    }\n",
       "\n",
       "    .dataframe tbody tr th {\n",
       "        vertical-align: top;\n",
       "    }\n",
       "\n",
       "    .dataframe thead th {\n",
       "        text-align: right;\n",
       "    }\n",
       "</style>\n",
       "<table border=\"1\" class=\"dataframe\">\n",
       "  <thead>\n",
       "    <tr style=\"text-align: right;\">\n",
       "      <th></th>\n",
       "      <th>uid</th>\n",
       "      <th>variant_number</th>\n",
       "      <th>dt</th>\n",
       "      <th>signup_date</th>\n",
       "    </tr>\n",
       "  </thead>\n",
       "  <tbody>\n",
       "    <tr>\n",
       "      <th>0</th>\n",
       "      <td>0</td>\n",
       "      <td>0</td>\n",
       "      <td>2019-02-06</td>\n",
       "      <td>2018-09-24</td>\n",
       "    </tr>\n",
       "    <tr>\n",
       "      <th>1</th>\n",
       "      <td>1</td>\n",
       "      <td>0</td>\n",
       "      <td>2019-02-06</td>\n",
       "      <td>2016-11-07</td>\n",
       "    </tr>\n",
       "  </tbody>\n",
       "</table>\n",
       "</div>"
      ],
      "text/plain": [
       "   uid  variant_number          dt signup_date\n",
       "0    0               0  2019-02-06  2018-09-24\n",
       "1    1               0  2019-02-06  2016-11-07"
      ]
     },
     "execution_count": 6,
     "metadata": {},
     "output_type": "execute_result"
    }
   ],
   "source": [
    "df2.head(2)  "
   ]
  },
  {
   "cell_type": "code",
   "execution_count": 4,
   "id": "9ba6b8ad",
   "metadata": {},
   "outputs": [],
   "source": [
    "df3 = pd.read_csv('t3_user_active_min_pre.csv')"
   ]
  },
  {
   "cell_type": "code",
   "execution_count": 8,
   "id": "4c9a9811",
   "metadata": {},
   "outputs": [
    {
     "data": {
      "text/html": [
       "<div>\n",
       "<style scoped>\n",
       "    .dataframe tbody tr th:only-of-type {\n",
       "        vertical-align: middle;\n",
       "    }\n",
       "\n",
       "    .dataframe tbody tr th {\n",
       "        vertical-align: top;\n",
       "    }\n",
       "\n",
       "    .dataframe thead th {\n",
       "        text-align: right;\n",
       "    }\n",
       "</style>\n",
       "<table border=\"1\" class=\"dataframe\">\n",
       "  <thead>\n",
       "    <tr style=\"text-align: right;\">\n",
       "      <th></th>\n",
       "      <th>uid</th>\n",
       "      <th>dt</th>\n",
       "      <th>active_mins</th>\n",
       "    </tr>\n",
       "  </thead>\n",
       "  <tbody>\n",
       "    <tr>\n",
       "      <th>0</th>\n",
       "      <td>0</td>\n",
       "      <td>2018-09-24</td>\n",
       "      <td>3.0</td>\n",
       "    </tr>\n",
       "    <tr>\n",
       "      <th>1</th>\n",
       "      <td>0</td>\n",
       "      <td>2018-11-08</td>\n",
       "      <td>4.0</td>\n",
       "    </tr>\n",
       "  </tbody>\n",
       "</table>\n",
       "</div>"
      ],
      "text/plain": [
       "   uid          dt  active_mins\n",
       "0    0  2018-09-24          3.0\n",
       "1    0  2018-11-08          4.0"
      ]
     },
     "execution_count": 8,
     "metadata": {},
     "output_type": "execute_result"
    }
   ],
   "source": [
    "df3.head(2) "
   ]
  },
  {
   "cell_type": "code",
   "execution_count": 5,
   "id": "9f7dcfeb",
   "metadata": {},
   "outputs": [],
   "source": [
    "df4 = pd.read_csv('t4_user_attributes.csv')"
   ]
  },
  {
   "cell_type": "code",
   "execution_count": 10,
   "id": "d78fd4e1",
   "metadata": {},
   "outputs": [
    {
     "data": {
      "text/html": [
       "<div>\n",
       "<style scoped>\n",
       "    .dataframe tbody tr th:only-of-type {\n",
       "        vertical-align: middle;\n",
       "    }\n",
       "\n",
       "    .dataframe tbody tr th {\n",
       "        vertical-align: top;\n",
       "    }\n",
       "\n",
       "    .dataframe thead th {\n",
       "        text-align: right;\n",
       "    }\n",
       "</style>\n",
       "<table border=\"1\" class=\"dataframe\">\n",
       "  <thead>\n",
       "    <tr style=\"text-align: right;\">\n",
       "      <th></th>\n",
       "      <th>uid</th>\n",
       "      <th>gender</th>\n",
       "      <th>user_type</th>\n",
       "    </tr>\n",
       "  </thead>\n",
       "  <tbody>\n",
       "    <tr>\n",
       "      <th>0</th>\n",
       "      <td>0</td>\n",
       "      <td>male</td>\n",
       "      <td>non_reader</td>\n",
       "    </tr>\n",
       "    <tr>\n",
       "      <th>1</th>\n",
       "      <td>1</td>\n",
       "      <td>male</td>\n",
       "      <td>reader</td>\n",
       "    </tr>\n",
       "  </tbody>\n",
       "</table>\n",
       "</div>"
      ],
      "text/plain": [
       "   uid gender   user_type\n",
       "0    0   male  non_reader\n",
       "1    1   male      reader"
      ]
     },
     "execution_count": 10,
     "metadata": {},
     "output_type": "execute_result"
    }
   ],
   "source": [
    "df4.head(2) "
   ]
  },
  {
   "cell_type": "markdown",
   "id": "a7cad7e3",
   "metadata": {},
   "source": [
    "# 使用table1 & table2 "
   ]
  },
  {
   "cell_type": "code",
   "execution_count": 6,
   "id": "c9fdff58",
   "metadata": {},
   "outputs": [],
   "source": [
    "from scipy import stats "
   ]
  },
  {
   "cell_type": "code",
   "execution_count": 7,
   "id": "237642d0",
   "metadata": {},
   "outputs": [],
   "source": [
    "#按照uid dt 合并数据  选择variant_number=1 即treatment下的active_mins 先删除异常值 后做正太检验  最后计算95% 的置信区间\n",
    "total_two = pd.merge(df1,df2,left_on = ['uid','dt'],right_on = ['uid','dt'])"
   ]
  },
  {
   "cell_type": "code",
   "execution_count": 13,
   "id": "20c7581c",
   "metadata": {},
   "outputs": [
    {
     "data": {
      "text/html": [
       "<div>\n",
       "<style scoped>\n",
       "    .dataframe tbody tr th:only-of-type {\n",
       "        vertical-align: middle;\n",
       "    }\n",
       "\n",
       "    .dataframe tbody tr th {\n",
       "        vertical-align: top;\n",
       "    }\n",
       "\n",
       "    .dataframe thead th {\n",
       "        text-align: right;\n",
       "    }\n",
       "</style>\n",
       "<table border=\"1\" class=\"dataframe\">\n",
       "  <thead>\n",
       "    <tr style=\"text-align: right;\">\n",
       "      <th></th>\n",
       "      <th>uid</th>\n",
       "      <th>dt</th>\n",
       "      <th>active_mins</th>\n",
       "      <th>variant_number</th>\n",
       "      <th>signup_date</th>\n",
       "    </tr>\n",
       "  </thead>\n",
       "  <tbody>\n",
       "    <tr>\n",
       "      <th>0</th>\n",
       "      <td>17</td>\n",
       "      <td>2019-02-06</td>\n",
       "      <td>157.0</td>\n",
       "      <td>0</td>\n",
       "      <td>2018-06-10</td>\n",
       "    </tr>\n",
       "    <tr>\n",
       "      <th>1</th>\n",
       "      <td>18</td>\n",
       "      <td>2019-02-06</td>\n",
       "      <td>1.0</td>\n",
       "      <td>0</td>\n",
       "      <td>2013-06-19</td>\n",
       "    </tr>\n",
       "    <tr>\n",
       "      <th>2</th>\n",
       "      <td>38</td>\n",
       "      <td>2019-02-06</td>\n",
       "      <td>26.0</td>\n",
       "      <td>0</td>\n",
       "      <td>2018-10-24</td>\n",
       "    </tr>\n",
       "  </tbody>\n",
       "</table>\n",
       "</div>"
      ],
      "text/plain": [
       "   uid          dt  active_mins  variant_number signup_date\n",
       "0   17  2019-02-06        157.0               0  2018-06-10\n",
       "1   18  2019-02-06          1.0               0  2013-06-19\n",
       "2   38  2019-02-06         26.0               0  2018-10-24"
      ]
     },
     "execution_count": 13,
     "metadata": {},
     "output_type": "execute_result"
    }
   ],
   "source": [
    "total_two.head(3) "
   ]
  },
  {
   "cell_type": "code",
   "execution_count": 8,
   "id": "a187723a",
   "metadata": {},
   "outputs": [],
   "source": [
    "non_treatment_mins = total_two.loc[total_two['variant_number']==0]['active_mins']"
   ]
  },
  {
   "cell_type": "code",
   "execution_count": 10,
   "id": "6722cc6f",
   "metadata": {},
   "outputs": [],
   "source": [
    "treatment_mins = total_two.loc[total_two['variant_number']==1]['active_mins']"
   ]
  },
  {
   "cell_type": "code",
   "execution_count": 39,
   "id": "ec08b541",
   "metadata": {},
   "outputs": [
    {
     "data": {
      "text/plain": [
       "count    7234.000000\n",
       "mean       19.893420\n",
       "std        46.827376\n",
       "min         1.000000\n",
       "25%         2.000000\n",
       "50%         4.000000\n",
       "75%        15.000000\n",
       "max       894.000000\n",
       "Name: active_mins, dtype: float64"
      ]
     },
     "execution_count": 39,
     "metadata": {},
     "output_type": "execute_result"
    }
   ],
   "source": [
    "non_treatment_mins.describe()"
   ]
  },
  {
   "cell_type": "code",
   "execution_count": 40,
   "id": "993e8efd",
   "metadata": {},
   "outputs": [
    {
     "name": "stdout",
     "output_type": "stream",
     "text": [
      "6.723800353073343 7.605118454744637\n"
     ]
    }
   ],
   "source": [
    "#剔除离群点 variant_number == 0\n",
    "iqr_0 = 15 - 2 \n",
    "#print((2 - 1.*iqr_0),(15+1.5*iqr_0))\n",
    "non_treatment_mins_non_outlier = non_treatment_mins.loc[(non_treatment_mins<(15+1.5*iqr_0))&(non_treatment_mins>(2 - 1.*iqr_0))]\n",
    "u,std = non_treatment_mins_non_outlier.mean() , non_treatment_mins_non_outlier.std()\n",
    "print(u,std) "
   ]
  },
  {
   "cell_type": "code",
   "execution_count": 38,
   "id": "ae5877d7",
   "metadata": {},
   "outputs": [
    {
     "data": {
      "text/plain": [
       "count    1441.000000\n",
       "mean       28.474670\n",
       "std        63.661809\n",
       "min         1.000000\n",
       "25%         3.000000\n",
       "50%         8.000000\n",
       "75%        22.000000\n",
       "max       669.000000\n",
       "Name: active_mins, dtype: float64"
      ]
     },
     "execution_count": 38,
     "metadata": {},
     "output_type": "execute_result"
    }
   ],
   "source": [
    "treatment_mins.describe() "
   ]
  },
  {
   "cell_type": "code",
   "execution_count": 41,
   "id": "4e347aae",
   "metadata": {},
   "outputs": [
    {
     "name": "stdout",
     "output_type": "stream",
     "text": [
      "10.506805444355484 10.956140421867927\n"
     ]
    }
   ],
   "source": [
    "#剔除离群点 variant_number == 1\n",
    "iqr = 22 - 3 \n",
    "#print((3 - 1.*iqr),(22+1.5*iqr))\n",
    "treatment_mins_non_outlier = treatment_mins.loc[(treatment_mins<(22+1.5*iqr))&(treatment_mins>(3 - 1.*iqr))]\n",
    "u1,std1 = treatment_mins_non_outlier.mean() , treatment_mins_non_outlier.std()\n",
    "print(u1,std1) "
   ]
  },
  {
   "cell_type": "code",
   "execution_count": 59,
   "id": "36932e5f",
   "metadata": {},
   "outputs": [
    {
     "data": {
      "text/plain": [
       "(-10.966835192069128, 31.980446080780098)"
      ]
     },
     "execution_count": 59,
     "metadata": {},
     "output_type": "execute_result"
    }
   ],
   "source": [
    "stats.norm.interval(0.95,u1,std1) # 第一问 treatment 95%置信区间计算 计算结果保留两位小数"
   ]
  },
  {
   "cell_type": "code",
   "execution_count": 44,
   "id": "a24ed7c5",
   "metadata": {},
   "outputs": [
    {
     "data": {
      "text/plain": [
       "Ttest_relResult(statistic=-10.472262972751212, pvalue=1.1772868452221205e-24)"
      ]
     },
     "execution_count": 44,
     "metadata": {},
     "output_type": "execute_result"
    }
   ],
   "source": [
    "stats.ttest_rel(non_treatment_mins_non_outlier[:1249],treatment_mins_non_outlier) #control, treatment存在显著性差异"
   ]
  },
  {
   "cell_type": "markdown",
   "id": "6280473e",
   "metadata": {},
   "source": [
    "# 使用table3 & table1 & table2"
   ]
  },
  {
   "cell_type": "code",
   "execution_count": 97,
   "id": "625e967c",
   "metadata": {},
   "outputs": [],
   "source": [
    "#f找出 variant_number = 1 的uid   找出 treatment之前之后的active_mins 计算显著性差异\n",
    "treatment_uid = df2[df2['variant_number'] == 1]['uid'] \n",
    "mins_after = df1.loc[df1['uid'].isin(treatment_uid)]['active_mins']\n",
    "\n",
    "mins_before = df3.loc[df3['uid'].isin(treatment_uid)]['active_mins']"
   ]
  },
  {
   "cell_type": "code",
   "execution_count": 101,
   "id": "f73e732a",
   "metadata": {},
   "outputs": [
    {
     "data": {
      "text/plain": [
       "count    200604.000000\n",
       "mean         16.078957\n",
       "std         500.199145\n",
       "min           1.000000\n",
       "25%           2.000000\n",
       "50%           4.000000\n",
       "75%          11.000000\n",
       "max       99999.000000\n",
       "Name: active_mins, dtype: float64"
      ]
     },
     "execution_count": 101,
     "metadata": {},
     "output_type": "execute_result"
    }
   ],
   "source": [
    "mins_before.describe()  "
   ]
  },
  {
   "cell_type": "code",
   "execution_count": 103,
   "id": "efff982c",
   "metadata": {},
   "outputs": [
    {
     "data": {
      "text/plain": [
       "count    179445.000000\n",
       "mean         40.240408\n",
       "std        1293.703072\n",
       "min           1.000000\n",
       "25%           3.000000\n",
       "50%           7.000000\n",
       "75%          19.000000\n",
       "max       99999.000000\n",
       "Name: active_mins, dtype: float64"
      ]
     },
     "execution_count": 103,
     "metadata": {},
     "output_type": "execute_result"
    }
   ],
   "source": [
    "mins_after.describe()  "
   ]
  },
  {
   "cell_type": "code",
   "execution_count": 102,
   "id": "bb07a623",
   "metadata": {},
   "outputs": [
    {
     "data": {
      "text/plain": [
       "(-4.921507823793655, 15.548289819628991)"
      ]
     },
     "execution_count": 102,
     "metadata": {},
     "output_type": "execute_result"
    }
   ],
   "source": [
    "#before treatment  95%置信区间\n",
    "iqr2 = 11-2 \n",
    "mins_before_nonoutlier = mins_before.loc[(mins_before<(11+1.5*iqr2))&(mins_before>(2-1.5*iqr2))]\n",
    "\n",
    "u2,std2 = mins_before_nonoutlier.mean() , mins_before_nonoutlier.std()\n",
    "stats.norm.interval(0.95,u2,std2) # 95%置信区间计算 计算结果保留两位小数"
   ]
  },
  {
   "cell_type": "code",
   "execution_count": 104,
   "id": "3b0a1e08",
   "metadata": {},
   "outputs": [],
   "source": [
    "#去除离群点treatment的数据\n",
    "iqr3 = 19-3\n",
    "mins_after_nonoutlier = mins_after.loc[(mins_after<(19+1.5*iqr3))&(mins_after>(3-1.5*iqr3))]"
   ]
  },
  {
   "cell_type": "code",
   "execution_count": 105,
   "id": "80bb721e",
   "metadata": {},
   "outputs": [
    {
     "data": {
      "text/plain": [
       "(-9.149177043659634, 27.2164227060063)"
      ]
     },
     "execution_count": 105,
     "metadata": {},
     "output_type": "execute_result"
    }
   ],
   "source": [
    "stats.norm.interval(0.95,mins_after_nonoutlier.mean(),mins_after_nonoutlier.std()) # 第二问 95%置信区间计算 计算结果保留两位小数"
   ]
  },
  {
   "cell_type": "code",
   "execution_count": null,
   "id": "9cfdeae3",
   "metadata": {},
   "outputs": [],
   "source": [
    "#treatment后停留分钟数显然更长，而且同treatment当日相比仍然保有不错的效果"
   ]
  },
  {
   "cell_type": "code",
   "execution_count": 112,
   "id": "ccd0b748",
   "metadata": {},
   "outputs": [
    {
     "data": {
      "text/plain": [
       "Ttest_relResult(statistic=-137.2209270545106, pvalue=0.0)"
      ]
     },
     "execution_count": 112,
     "metadata": {},
     "output_type": "execute_result"
    }
   ],
   "source": [
    "stats.ttest_rel(mins_before_nonoutlier[:155787],mins_after_nonoutlier) #p value<0.05 故treatment前后停留分钟数存在显著性差异"
   ]
  },
  {
   "cell_type": "markdown",
   "id": "5ddb3950",
   "metadata": {},
   "source": [
    "# 使用table4 排除性别、客户类型对实验的影响"
   ]
  },
  {
   "cell_type": "code",
   "execution_count": 114,
   "id": "d00fb609",
   "metadata": {},
   "outputs": [],
   "source": [
    "new_df1 = pd.merge(df1,df4,on='uid')\n",
    "new_df3 = pd.merge(df3,df4,on='uid')"
   ]
  },
  {
   "cell_type": "markdown",
   "id": "6fba70da",
   "metadata": {},
   "source": [
    "## 先比较性别是否对停留时间有显著性差异，再比较不同性别下实验产生的效果"
   ]
  },
  {
   "cell_type": "code",
   "execution_count": 117,
   "id": "82728deb",
   "metadata": {},
   "outputs": [],
   "source": [
    "treatment_uid = df2[df2['variant_number'] == 1]['uid']\n",
    "male_mins = new_df1.loc[new_df1['gender']=='male']['active_mins']\n",
    "female_mins = new_df1.loc[new_df1['gender']=='female']['active_mins']"
   ]
  },
  {
   "cell_type": "code",
   "execution_count": 123,
   "id": "b4623f40",
   "metadata": {},
   "outputs": [
    {
     "data": {
      "text/plain": [
       "Ttest_relResult(statistic=-0.8725215555924346, pvalue=0.38292470768041575)"
      ]
     },
     "execution_count": 123,
     "metadata": {},
     "output_type": "execute_result"
    }
   ],
   "source": [
    "stats.ttest_rel(male_mins[:263960],female_mins) #性别对停留时间无显著性差异"
   ]
  },
  {
   "cell_type": "code",
   "execution_count": 125,
   "id": "3368f554",
   "metadata": {},
   "outputs": [],
   "source": [
    "male_mins_after = new_df1.loc[(new_df1['gender']=='male')&(new_df1['uid'].isin(treatment_uid))]['active_mins']\n",
    "male_mins_before = new_df3.loc[(new_df3['gender']=='male')&(new_df3['uid'].isin(treatment_uid))]['active_mins']"
   ]
  },
  {
   "cell_type": "code",
   "execution_count": 128,
   "id": "c916c7cf",
   "metadata": {},
   "outputs": [
    {
     "data": {
      "text/plain": [
       "Ttest_relResult(statistic=-6.555056315082889, pvalue=5.586479902950626e-11)"
      ]
     },
     "execution_count": 128,
     "metadata": {},
     "output_type": "execute_result"
    }
   ],
   "source": [
    "stats.ttest_rel(male_mins_before[:110320], male_mins_after) #试验对男性停留时间有影响"
   ]
  },
  {
   "cell_type": "code",
   "execution_count": 132,
   "id": "cfdc7775",
   "metadata": {},
   "outputs": [
    {
     "data": {
      "text/plain": [
       "Ttest_relResult(statistic=-4.336550433612149, pvalue=1.450594656195817e-05)"
      ]
     },
     "execution_count": 132,
     "metadata": {},
     "output_type": "execute_result"
    }
   ],
   "source": [
    "female_mins_after = new_df1.loc[(new_df1['gender']=='female')&(new_df1['uid'].isin(treatment_uid))]['active_mins']\n",
    "female_mins_before = new_df3.loc[(new_df3['gender']=='female')&(new_df3['uid'].isin(treatment_uid))]['active_mins']\n",
    "stats.ttest_rel(female_mins_before[:43759], female_mins_after) #treatment同样可以增加女性停留时长"
   ]
  },
  {
   "cell_type": "markdown",
   "id": "c76cddb8",
   "metadata": {},
   "source": [
    "**treatment 不论男性还是女性，都可以有效提升用户停留时间**"
   ]
  },
  {
   "cell_type": "markdown",
   "id": "2c74316b",
   "metadata": {},
   "source": [
    "##  read是否是影响停留因素之一，老客户是否比新用户停留时间更长"
   ]
  },
  {
   "cell_type": "code",
   "execution_count": 134,
   "id": "ac1d3e2a",
   "metadata": {},
   "outputs": [
    {
     "data": {
      "text/plain": [
       "array(['non_reader', 'reader', 'new_user', 'contributor'], dtype=object)"
      ]
     },
     "execution_count": 134,
     "metadata": {},
     "output_type": "execute_result"
    }
   ],
   "source": [
    "new_df1.user_type.unique() "
   ]
  },
  {
   "cell_type": "code",
   "execution_count": 135,
   "id": "a5e7f44d",
   "metadata": {},
   "outputs": [],
   "source": [
    "nonread_mins = new_df1.loc[new_df1['user_type']=='non_reader']['active_mins']\n",
    "read_mins = new_df1.loc[new_df1['user_type']=='reader']['active_mins']"
   ]
  },
  {
   "cell_type": "code",
   "execution_count": 138,
   "id": "25745e74",
   "metadata": {},
   "outputs": [
    {
     "data": {
      "text/plain": [
       "Ttest_relResult(statistic=-22.45690855518372, pvalue=1.2816296384759628e-111)"
      ]
     },
     "execution_count": 138,
     "metadata": {},
     "output_type": "execute_result"
    }
   ],
   "source": [
    "stats.ttest_rel(nonread_mins[:406461],read_mins) "
   ]
  },
  {
   "cell_type": "code",
   "execution_count": 145,
   "id": "7b12bd82",
   "metadata": {},
   "outputs": [
    {
     "data": {
      "text/plain": [
       "8.560384603366929"
      ]
     },
     "execution_count": 145,
     "metadata": {},
     "output_type": "execute_result"
    }
   ],
   "source": [
    "nonread_mins.mean() "
   ]
  },
  {
   "cell_type": "code",
   "execution_count": 146,
   "id": "58989f21",
   "metadata": {},
   "outputs": [
    {
     "data": {
      "text/plain": [
       "41.09470527307663"
      ]
     },
     "execution_count": 146,
     "metadata": {},
     "output_type": "execute_result"
    }
   ],
   "source": [
    "read_mins.mean()  #显然reader平均停留时间要明显高于non reader"
   ]
  },
  {
   "cell_type": "code",
   "execution_count": 147,
   "id": "c94db05f",
   "metadata": {},
   "outputs": [],
   "source": [
    "new_mins = new_df1.loc[new_df1['user_type']=='new_user']['active_mins']\n",
    "old_mins = new_df1.loc[new_df1['user_type']=='contributor']['active_mins']"
   ]
  },
  {
   "cell_type": "code",
   "execution_count": 150,
   "id": "df9faa59",
   "metadata": {},
   "outputs": [
    {
     "data": {
      "text/plain": [
       "Ttest_relResult(statistic=-6.650785041491005, pvalue=3.0022060042882656e-11)"
      ]
     },
     "execution_count": 150,
     "metadata": {},
     "output_type": "execute_result"
    }
   ],
   "source": [
    "stats.ttest_rel(new_mins,old_mins[:17377]) #新老客户停留时间存在显著性差异"
   ]
  },
  {
   "cell_type": "code",
   "execution_count": 151,
   "id": "50963e96",
   "metadata": {},
   "outputs": [
    {
     "name": "stdout",
     "output_type": "stream",
     "text": [
      "new_mean: 6.379582206364735 old_min: 253.0313881786735\n"
     ]
    }
   ],
   "source": [
    "print('new_mean:',new_mins.mean(),'old_min:',old_mins.mean()) #老客户停留时间显著高于新客户"
   ]
  },
  {
   "cell_type": "markdown",
   "id": "40242e37",
   "metadata": {},
   "source": [
    "**为了提升客户粘性，可以将试验更多的投放在non reader和new_user类型的客户上**"
   ]
  },
  {
   "cell_type": "code",
   "execution_count": null,
   "id": "4bf986ea",
   "metadata": {},
   "outputs": [],
   "source": []
  },
  {
   "cell_type": "code",
   "execution_count": null,
   "id": "bb6246c5",
   "metadata": {},
   "outputs": [],
   "source": []
  },
  {
   "cell_type": "code",
   "execution_count": null,
   "id": "af91f22a",
   "metadata": {},
   "outputs": [],
   "source": []
  },
  {
   "cell_type": "code",
   "execution_count": null,
   "id": "d13d279a",
   "metadata": {},
   "outputs": [],
   "source": []
  },
  {
   "cell_type": "code",
   "execution_count": null,
   "id": "383c5a58",
   "metadata": {},
   "outputs": [],
   "source": []
  },
  {
   "cell_type": "code",
   "execution_count": null,
   "id": "12b2b162",
   "metadata": {},
   "outputs": [],
   "source": []
  },
  {
   "cell_type": "code",
   "execution_count": null,
   "id": "cb1722f8",
   "metadata": {},
   "outputs": [],
   "source": []
  },
  {
   "cell_type": "code",
   "execution_count": null,
   "id": "d0dfdf4a",
   "metadata": {},
   "outputs": [],
   "source": []
  }
 ],
 "metadata": {
  "kernelspec": {
   "display_name": "Python 3",
   "language": "python",
   "name": "python3"
  },
  "language_info": {
   "codemirror_mode": {
    "name": "ipython",
    "version": 3
   },
   "file_extension": ".py",
   "mimetype": "text/x-python",
   "name": "python",
   "nbconvert_exporter": "python",
   "pygments_lexer": "ipython3",
   "version": "3.8.8"
  },
  "toc": {
   "base_numbering": 1,
   "nav_menu": {},
   "number_sections": false,
   "sideBar": true,
   "skip_h1_title": false,
   "title_cell": "Table of Contents",
   "title_sidebar": "Contents",
   "toc_cell": false,
   "toc_position": {},
   "toc_section_display": true,
   "toc_window_display": false
  },
  "varInspector": {
   "cols": {
    "lenName": 16,
    "lenType": 16,
    "lenVar": 40
   },
   "kernels_config": {
    "python": {
     "delete_cmd_postfix": "",
     "delete_cmd_prefix": "del ",
     "library": "var_list.py",
     "varRefreshCmd": "print(var_dic_list())"
    },
    "r": {
     "delete_cmd_postfix": ") ",
     "delete_cmd_prefix": "rm(",
     "library": "var_list.r",
     "varRefreshCmd": "cat(var_dic_list()) "
    }
   },
   "types_to_exclude": [
    "module",
    "function",
    "builtin_function_or_method",
    "instance",
    "_Feature"
   ],
   "window_display": false
  }
 },
 "nbformat": 4,
 "nbformat_minor": 5
}
